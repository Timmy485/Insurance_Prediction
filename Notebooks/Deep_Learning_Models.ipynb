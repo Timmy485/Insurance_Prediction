{
 "cells": [
  {
   "cell_type": "code",
   "execution_count": 1,
   "id": "a684bd63",
   "metadata": {},
   "outputs": [
    {
     "name": "stderr",
     "output_type": "stream",
     "text": [
      "C:\\Users\\yeboa\\AppData\\Local\\Temp\\ipykernel_18732\\3974177756.py:3: DeprecationWarning: `import pandas_profiling` is going to be deprecated by April 1st. Please use `import ydata_profiling` instead.\n",
      "  import pandas_profiling\n"
     ]
    },
    {
     "ename": "ModuleNotFoundError",
     "evalue": "No module named 'pytorch_tabnet'",
     "output_type": "error",
     "traceback": [
      "\u001b[1;31m---------------------------------------------------------------------------\u001b[0m",
      "\u001b[1;31mModuleNotFoundError\u001b[0m                       Traceback (most recent call last)",
      "\u001b[1;32m~\\AppData\\Local\\Temp\\ipykernel_18732\\3974177756.py\u001b[0m in \u001b[0;36m<module>\u001b[1;34m\u001b[0m\n\u001b[0;32m     16\u001b[0m \u001b[1;32mfrom\u001b[0m \u001b[0msklearn\u001b[0m\u001b[1;33m.\u001b[0m\u001b[0msvm\u001b[0m \u001b[1;32mimport\u001b[0m \u001b[0mSVC\u001b[0m\u001b[1;33m,\u001b[0m \u001b[0mLinearSVC\u001b[0m\u001b[1;33m\u001b[0m\u001b[1;33m\u001b[0m\u001b[0m\n\u001b[0;32m     17\u001b[0m \u001b[1;32mfrom\u001b[0m \u001b[0msklearn\u001b[0m\u001b[1;33m.\u001b[0m\u001b[0mlinear_model\u001b[0m \u001b[1;32mimport\u001b[0m \u001b[0mRidgeClassifier\u001b[0m\u001b[1;33m\u001b[0m\u001b[1;33m\u001b[0m\u001b[0m\n\u001b[1;32m---> 18\u001b[1;33m \u001b[1;32mfrom\u001b[0m \u001b[0mpytorch_tabnet\u001b[0m\u001b[1;33m.\u001b[0m\u001b[0mtab_model\u001b[0m \u001b[1;32mimport\u001b[0m \u001b[0mTabNetClassifier\u001b[0m\u001b[1;33m\u001b[0m\u001b[1;33m\u001b[0m\u001b[0m\n\u001b[0m\u001b[0;32m     19\u001b[0m \u001b[1;32mimport\u001b[0m \u001b[0mseaborn\u001b[0m \u001b[1;32mas\u001b[0m \u001b[0msns\u001b[0m\u001b[1;33m\u001b[0m\u001b[1;33m\u001b[0m\u001b[0m\n\u001b[0;32m     20\u001b[0m \u001b[1;33m\u001b[0m\u001b[0m\n",
      "\u001b[1;31mModuleNotFoundError\u001b[0m: No module named 'pytorch_tabnet'"
     ]
    }
   ],
   "source": [
    "import pandas as pd\n",
    "import numpy as np\n",
    "import pandas_profiling\n",
    "import matplotlib.pyplot as plt\n",
    "from sklearn.ensemble import RandomForestClassifier, StackingClassifier, GradientBoostingClassifier\n",
    "from sklearn.model_selection import train_test_split, cross_val_score\n",
    "from sklearn.preprocessing import LabelEncoder, StandardScaler, OneHotEncoder\n",
    "from sklearn.metrics import classification_report, roc_auc_score, mean_absolute_error, accuracy_score, confusion_matrix, roc_curve, auc\n",
    "from sklearn.model_selection import GridSearchCV\n",
    "from sklearn.linear_model import Lasso, LassoCV, LogisticRegression\n",
    "import category_encoders as ce\n",
    "from imblearn.over_sampling import SMOTE\n",
    "from sklearn.utils import class_weight\n",
    "from xgboost import XGBClassifier\n",
    "from sklearn.feature_selection import mutual_info_classif\n",
    "from sklearn.svm import SVC, LinearSVC\n",
    "from sklearn.linear_model import RidgeClassifier\n",
    "from pytorch_tabnet.tab_model import TabNetClassifier\n",
    "import seaborn as sns\n",
    "\n",
    "%matplotlib inline"
   ]
  },
  {
   "cell_type": "code",
   "execution_count": null,
   "id": "7db94541",
   "metadata": {},
   "outputs": [],
   "source": [
    "# read data\n",
    "df = pd.read_csv('train_data.csv')\n",
    "df2 = pd.read_csv('test_data.csv')\n",
    "ids = df2['Customer Id']"
   ]
  },
  {
   "cell_type": "code",
   "execution_count": null,
   "id": "b32d7a9f",
   "metadata": {},
   "outputs": [],
   "source": [
    "df.head()"
   ]
  },
  {
   "cell_type": "code",
   "execution_count": null,
   "id": "e26d80ec",
   "metadata": {},
   "outputs": [],
   "source": [
    "def replace_values(val):\n",
    "    if val == '>=10':\n",
    "        return 'greater than 10'\n",
    "    elif val == '   .':\n",
    "        return 'no data'\n",
    "    elif int(val) < 5:\n",
    "        return 'less than 5'\n",
    "    else:\n",
    "        return 'greater than 5'"
   ]
  },
  {
   "cell_type": "code",
   "execution_count": null,
   "id": "bd71523c",
   "metadata": {},
   "outputs": [],
   "source": [
    "def preprocess(df, filename):\n",
    "    # drop ID col \n",
    "    df = df.drop('Customer Id', axis=1)\n",
    "\n",
    "    \n",
    "    # drop number of windows\n",
    "    df['NumberOfWindows'] = df['NumberOfWindows'].apply(replace_values)\n",
    "    \n",
    "    \n",
    "    # impute garden based on settlement\n",
    "    df.loc[df.Settlement == 'U', 'Garden'] = 'V'\n",
    "    df.loc[df.Settlement != 'U', 'Garden'] = 'O'\n",
    "    \n",
    "    \n",
    "    # impute building dimension\n",
    "    rural_dim = df[df['Settlement'] == 'R']\n",
    "    rural_dim_mean = rural_dim[\"Building Dimension\"].mean()\n",
    "    urban_dim = df[df['Settlement'] == 'U']\n",
    "    urban_dim_mean = urban_dim[\"Building Dimension\"].mean()\n",
    "    for i in range(len(df.Settlement)):\n",
    "        if (df.Settlement[i] == 'U') and pd.isnull(df['Building Dimension'][i]):\n",
    "            df.at[i, 'Building Dimension'] = urban_dim_mean\n",
    "        elif (df.Settlement[i] == 'R') and pd.isnull(df['Building Dimension'][i]):\n",
    "            df.at[i, 'Building Dimension'] = rural_dim_mean\n",
    "        \n",
    "        \n",
    "    #replace occupancy NaN values with mode date\n",
    "    date_mode = df.Date_of_Occupancy.mode()[0]\n",
    "    df.Date_of_Occupancy.fillna(date_mode, inplace=True)\n",
    "    df['Date_of_Occupancy'] = df['Date_of_Occupancy'].astype(int)\n",
    "    \n",
    "    \n",
    "    # Convert the numerical values to string labels for building type\n",
    "    mapping = {1: 'type1', 2: 'type2', 3: 'type3', 4: 'type4'}\n",
    "    df['Building_Type'] = df['Building_Type'].map(mapping)\n",
    "    \n",
    "    # drop geo code\n",
    "    df = df.drop('Geo_Code', axis=1)\n",
    "    \n",
    "    # save df\n",
    "    df.to_csv(filename, index=False)"
   ]
  },
  {
   "cell_type": "code",
   "execution_count": null,
   "id": "1fcf60e8",
   "metadata": {},
   "outputs": [],
   "source": [
    "preprocess(df, 'train_deep_learning.csv')\n",
    "preprocess(df2, 'test_deep_learning.csv')"
   ]
  },
  {
   "cell_type": "code",
   "execution_count": null,
   "id": "03706094",
   "metadata": {},
   "outputs": [],
   "source": [
    "df = pd.read_csv('train_deep_learning.csv')\n",
    "df2 = pd.read_csv('test_deep_learning.csv')\n",
    "df.head()"
   ]
  }
 ],
 "metadata": {
  "kernelspec": {
   "display_name": "Python 3 (ipykernel)",
   "language": "python",
   "name": "python3"
  },
  "language_info": {
   "codemirror_mode": {
    "name": "ipython",
    "version": 3
   },
   "file_extension": ".py",
   "mimetype": "text/x-python",
   "name": "python",
   "nbconvert_exporter": "python",
   "pygments_lexer": "ipython3",
   "version": "3.9.13"
  }
 },
 "nbformat": 4,
 "nbformat_minor": 5
}
