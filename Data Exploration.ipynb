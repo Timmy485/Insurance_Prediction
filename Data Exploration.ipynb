{
 "cells": [
  {
   "cell_type": "code",
   "execution_count": null,
   "id": "494e4fa3",
   "metadata": {},
   "outputs": [],
   "source": [
    "import pandas as pd\n",
    "import numpy as np\n",
    "import seaborn as sns\n",
    "%matplotlib inline\n",
    "import matplotlib.pyplot as plt\n",
    "from pandas_profiling import ProfileReport"
   ]
  },
  {
   "cell_type": "markdown",
   "id": "1f298cd1",
   "metadata": {},
   "source": [
    "## I) Data Assessment and Understanding"
   ]
  },
  {
   "cell_type": "markdown",
   "id": "69c50a4d",
   "metadata": {},
   "source": [
    "### Loading Dataset"
   ]
  },
  {
   "cell_type": "code",
   "execution_count": null,
   "id": "a4a1bff7",
   "metadata": {},
   "outputs": [],
   "source": [
    "df = pd.read_csv('train_data.csv')\n",
    "df.head(15)\n",
    "#,parse_dates=['Date_of_Occupancy']"
   ]
  },
  {
   "cell_type": "code",
   "execution_count": null,
   "id": "b92351f8",
   "metadata": {},
   "outputs": [],
   "source": [
    "def data_understanding(data):\n",
    "    \"\"\"Function that prints all data information\n",
    "        \n",
    "    Args:\n",
    "        data: data to be understood - dataframe\n",
    "    \n",
    "    Return:\n",
    "        None: Prints summary info to the screen\n",
    "    \"\"\"\n",
    "    # checking the data shape\n",
    "    print('Data Shape')\n",
    "    print('---------------------------------')\n",
    "    print(data.shape)\n",
    "    print('---------------------------------\\n\\n')\n",
    "    \n",
    "    # displaying the columns\n",
    "    print('Data Columns')\n",
    "    print('---------------------------------')\n",
    "    print(data.columns.values)\n",
    "    print('---------------------------------\\n\\n')\n",
    "    \n",
    "    # checking data info\n",
    "    print('Data Info')\n",
    "    print('---------------------------------')\n",
    "    print(data.info())\n",
    "    print('---------------------------------\\n\\n')"
   ]
  },
  {
   "cell_type": "code",
   "execution_count": null,
   "id": "54f716e2",
   "metadata": {},
   "outputs": [],
   "source": [
    "data_understanding(df)"
   ]
  },
  {
   "cell_type": "code",
   "execution_count": null,
   "id": "119ffecd",
   "metadata": {},
   "outputs": [],
   "source": [
    "ProfileReport(df)"
   ]
  },
  {
   "cell_type": "code",
   "execution_count": null,
   "id": "74347c8a",
   "metadata": {},
   "outputs": [],
   "source": [
    "# changing dots by null in NumberOfWindows column\n",
    "df.loc[(df['NumberOfWindows']=='   .'),'NumberOfWindows'] = np.nan"
   ]
  },
  {
   "cell_type": "code",
   "execution_count": null,
   "id": "11765227",
   "metadata": {
    "scrolled": false
   },
   "outputs": [],
   "source": [
    "def missing_data(dataframe):\n",
    "    \"\"\"Function that checks for null values and computes the percentage of null values\n",
    "    Args:\n",
    "        dataframe: loaded dataframe\n",
    "    Return:\n",
    "        dataframe: dataframe of total null values with corresponding percentages\n",
    "    \"\"\"\n",
    "    #columns with percentage missing values\n",
    "    total = dataframe.isnull().sum().sort_values(ascending=False)   # create an empty datafram\n",
    "    percentage = round((total / dataframe.shape[0]) * 100, 2)\n",
    "      \n",
    "    Percentage_Dframe = pd.concat([total, percentage], axis=1, keys=['Total','Percentage'])\n",
    "    return Percentage_Dframe\n",
    "\n",
    "missing_data(df)"
   ]
  },
  {
   "cell_type": "code",
   "execution_count": null,
   "id": "51841fff",
   "metadata": {},
   "outputs": [],
   "source": [
    "def duplicated_value(data):\n",
    "    \"\"\"Function that checks for duplicate values in rows\n",
    "    Args:\n",
    "        data: loaded dataframe\n",
    "    Return:\n",
    "        int: Return number of duplicate\n",
    "    \"\"\"\n",
    "    print(data.duplicated().any())\n",
    "    return data.duplicated().sum()\n",
    "duplicated_value(df)"
   ]
  },
  {
   "cell_type": "code",
   "execution_count": null,
   "id": "d19300f8",
   "metadata": {},
   "outputs": [],
   "source": [
    "df.nunique()"
   ]
  },
  {
   "cell_type": "code",
   "execution_count": null,
   "id": "967fa786",
   "metadata": {},
   "outputs": [],
   "source": [
    "duplicated_value(df['Customer Id'])"
   ]
  },
  {
   "cell_type": "code",
   "execution_count": null,
   "id": "2feb5cc4",
   "metadata": {},
   "outputs": [],
   "source": [
    "# Replace NaN values with a default value, such as -1\n",
    "#df['Date_of_Occupancy'] = df['Date_of_Occupancy'].fillna(-1)\n",
    "# Convert the 'float_col' column to integer\n",
    "#df['Date_of_Occupancy'] = df['Date_of_Occupancy'].astype(int)"
   ]
  },
  {
   "cell_type": "markdown",
   "id": "47f370ca",
   "metadata": {},
   "source": [
    "## II)Exploratory Data Analysis\n",
    "\n",
    "**Distribution of Insured Period and Building Dimension**"
   ]
  },
  {
   "cell_type": "code",
   "execution_count": null,
   "id": "2fc1405a",
   "metadata": {},
   "outputs": [],
   "source": [
    "cols = ['Insured_Period','Building Dimension']\n",
    "numerical_cols=[cname for cname in df.columns if cname in cols]\n",
    "histograms = df[numerical_cols].hist(figsize=(8,5), grid=False, color = '#BBC6C8')"
   ]
  },
  {
   "cell_type": "markdown",
   "id": "0c62e4d9",
   "metadata": {},
   "source": [
    "**Insured_Period**, From the histogram, we can notice that the insured period varies between 0 and a year and that the peak is 1 year, which means that the most common insured period is a year. We can also notice that the the data is left-skewed, few insured buildings have less that a year insured period and many insured building have a year insured period.\n",
    "\n",
    "**Building Dimension**, From the histogram, the buildings dimension varies between 1 and 20940 m2. Most of the buildings have an average dimension of 1083 m2. We can also notice that the the data is right-skewed, most of the building have less than 5000 m2 dimension and few of the builldings have more than 5000 m2 as dimension."
   ]
  },
  {
   "cell_type": "code",
   "execution_count": null,
   "id": "08b55f81",
   "metadata": {},
   "outputs": [],
   "source": [
    "\n",
    "\n",
    "sns.boxplot(x=df['Insured_Period'], color='lightblue')\n",
    "\n",
    "# Add labels and title\n",
    "plt.xlabel('Insured_Period')\n",
    "plt.title('Box Plot of Insured Period')\n",
    "\n",
    "# Show the plot\n",
    "plt.show()"
   ]
  },
  {
   "cell_type": "markdown",
   "id": "663ff8b5",
   "metadata": {},
   "source": [
    "The box plot is showing that many outliers at the left side of the box which confirm the skweness of the data. "
   ]
  },
  {
   "cell_type": "code",
   "execution_count": null,
   "id": "29bf3d0b",
   "metadata": {
    "scrolled": true
   },
   "outputs": [],
   "source": [
    "sns.boxplot(x=df['Building Dimension'], color='lightblue')\n",
    "\n",
    "# Add labels and title\n",
    "plt.xlabel('Building Dimension')\n",
    "plt.title('Box Plot of Building Dimension')\n",
    "\n",
    "# Show the plot\n",
    "plt.show()"
   ]
  },
  {
   "cell_type": "markdown",
   "id": "4a08d127",
   "metadata": {},
   "source": [
    "The box is showing that the building maximum dimension is 5000 m2, minimum dimension is 1 m2, the average dimension is around 1080 m2 and we have some outliers that even have dimension above 20000 m2. 25% of the buildings have dimension lower than 500 m2, 75% of the buildings have dimension lower than 2289 m2, the middle 50% of the buildings falls between 500 m2 and 2289 m2."
   ]
  },
  {
   "cell_type": "markdown",
   "id": "57cbf3fb",
   "metadata": {},
   "source": [
    "**Count Plot of Categorical Columns**"
   ]
  },
  {
   "cell_type": "code",
   "execution_count": null,
   "id": "9f4fb716",
   "metadata": {},
   "outputs": [],
   "source": [
    "cols = ['YearOfObservation','Residential','Building_Painted','Building_Fenced','Garden','Settlement','Building_Type','NumberOfWindows']\n",
    "cat_cols=[cname for cname in df.columns if cname in cols]\n",
    "fig, axes = plt.subplots(2,4 , figsize=(16,12))\n",
    "axes_it = axes.flat\n",
    "for c,ax in zip(cols, axes_it):\n",
    "    df[c].value_counts().plot(kind=\"bar\", ax=ax, color=\"#01A9B4\",xlabel = c, ylabel = 'Count')\n",
    "fig.tight_layout(pad=1.0)\n",
    "plt.show()"
   ]
  },
  {
   "cell_type": "markdown",
   "id": "a4026b67",
   "metadata": {},
   "source": [
    "From the above graphs, the highest number of insured building occured in the year of 2012(1850) and this number keeps decreasing till 2016(100). Non residential buildings are the most insured(close to 5000), non-painted building are the most insured(above 5000). There is no much difference between the number of fenced building and non-fenced building that are insured(above 3500). same for buildings with garden and no garden, urban and rural settlement. Type 2 building are the most insured and building with 4 number of windows are the most insured.  "
   ]
  },
  {
   "cell_type": "markdown",
   "id": "fe11dee8",
   "metadata": {},
   "source": [
    "**Year of Occupancy Count Plot**"
   ]
  },
  {
   "cell_type": "code",
   "execution_count": null,
   "id": "b95b773a",
   "metadata": {},
   "outputs": [],
   "source": [
    "df['Date_of_Occupancy'].value_counts().head(20).plot.barh(color='#C8D2D1',figsize=(10,5),alpha=0.8)\n",
    "plt.title('Year of Occupancy Count Plot')\n",
    "plt.xlabel('Count',fontdict={'fontweight':'bold'})\n",
    "plt.ylabel('Year of Occupancy')\n",
    "plt.show()"
   ]
  },
  {
   "cell_type": "markdown",
   "id": "8e761cbd",
   "metadata": {},
   "source": [
    "The highest number of insured buildings were occupied in the year 1960. "
   ]
  },
  {
   "cell_type": "code",
   "execution_count": null,
   "id": "3185a405",
   "metadata": {},
   "outputs": [],
   "source": [
    "cols = ['Building_Painted','Residential','Building_Type','NumberOfWindows']\n",
    "cat_cols=[cname for cname in df.columns if cname in cols]\n",
    "fig, axes = plt.subplots(2,2 , figsize=(8,6))\n",
    "axes_it = axes.flat\n",
    "for c,ax in zip(cols, axes_it):\n",
    "    df[c].value_counts().plot(kind=\"bar\", ax=ax, color=\"#c37028\",xlabel = c, ylabel = 'Count')\n",
    "fig.tight_layout(pad=1.0)\n",
    "plt.title('Count of insured Building based on Building Characteristics')\n",
    "plt.show()"
   ]
  },
  {
   "cell_type": "markdown",
   "id": "bdcf0d25",
   "metadata": {},
   "source": [
    "### Bivariate Analysis"
   ]
  },
  {
   "cell_type": "code",
   "execution_count": null,
   "id": "ddcaed06",
   "metadata": {},
   "outputs": [],
   "source": []
  },
  {
   "cell_type": "code",
   "execution_count": null,
   "id": "8769e9a2",
   "metadata": {},
   "outputs": [],
   "source": []
  },
  {
   "cell_type": "markdown",
   "id": "2eaf0348",
   "metadata": {},
   "source": [
    "**Bivariate Analysis between Features**\n",
    "\n",
    "**Relationship between Date of Occupancy and Building Dimension**"
   ]
  },
  {
   "cell_type": "code",
   "execution_count": null,
   "id": "7b331022",
   "metadata": {},
   "outputs": [],
   "source": [
    "k = df.groupby('Date_of_Occupancy').mean()\n",
    "sns.scatterplot(x=df['Date_of_Occupancy'], y=df['Building Dimension'])"
   ]
  },
  {
   "cell_type": "markdown",
   "id": "f8b39d85",
   "metadata": {},
   "source": [
    "There is a weak positive relationship between building dimension and date of occupancy, building dimension slightly increase with when year increases."
   ]
  },
  {
   "cell_type": "markdown",
   "id": "77d8d469",
   "metadata": {},
   "source": [
    "**Association between Settlement and Garden**"
   ]
  },
  {
   "cell_type": "code",
   "execution_count": null,
   "id": "381469d5",
   "metadata": {},
   "outputs": [],
   "source": [
    "# Replace categorical values to make more sense\n",
    "df['Building_Painted'] = df['Building_Painted'].replace({'N':'Painted','V':'Not Painted'})\n",
    "df['Building_Fenced'] = df['Building_Fenced'].replace({'N':'Fenced','V':'Not Fenced'})\n",
    "df['Garden'] = df['Garden'].replace({'V':'Garden','O':'No Garden'})\n",
    "df['Settlement'] = df['Settlement'].replace({'U':'Urban','R':'Rural'})\n",
    "df.head(2)"
   ]
  },
  {
   "cell_type": "code",
   "execution_count": null,
   "id": "93973032",
   "metadata": {},
   "outputs": [],
   "source": [
    "df.to_csv('explore.csv')"
   ]
  },
  {
   "cell_type": "code",
   "execution_count": null,
   "id": "441f3ccd",
   "metadata": {},
   "outputs": [],
   "source": [
    "contingency_table = pd.crosstab(df['Settlement'], df['Garden'])\n",
    "print(contingency_table)\n",
    "ax = contingency_table.plot(kind='bar', stacked=True, color=['#b29d94', '#fed395'])\n",
    "for rect in ax.patches:\n",
    "    # Find where everything is located\n",
    "    height = rect.get_height()\n",
    "    width = rect.get_width()\n",
    "    x = rect.get_x()\n",
    "    y = rect.get_y()\n",
    "    \n",
    "    # The height of the bar is the data value and can be used as the label\n",
    "    label_text = f'{height:.0f}'  # f'{height:.2f}' to format decimal values\n",
    "    \n",
    "    # ax.text(x, y, text)\n",
    "    label_x = x + width / 2\n",
    "    label_y = y + height / 2\n",
    "\n",
    "    # plot only when height is greater than specified value\n",
    "    if height > 0:\n",
    "        ax.text(label_x, label_y, label_text, ha='center', va='center', fontsize=10)\n",
    "# title\n",
    "plt.title('Association betwen Settlement and Garden')\n",
    "        \n",
    "# add plot labels\n",
    "plt.xlabel('Settlement')\n",
    "plt.legend(title='Garden', loc='upper right')\n",
    "\n",
    "# show plot\n",
    "plt.show()\n"
   ]
  },
  {
   "cell_type": "code",
   "execution_count": null,
   "id": "e856fc0f",
   "metadata": {},
   "outputs": [],
   "source": []
  },
  {
   "cell_type": "markdown",
   "id": "186d2990",
   "metadata": {},
   "source": [
    "All the buildings in the urban settlement have gardens, all but one buildings in the rural settlement have no gardens."
   ]
  },
  {
   "cell_type": "code",
   "execution_count": null,
   "id": "86864a79",
   "metadata": {},
   "outputs": [],
   "source": [
    "null_hypothesis = \"There is no association between settlement and car garden.\"\n",
    "alternative_hypothesis = \"There is an association between settlement and car garden.\"\n",
    "alpha = 0.05"
   ]
  },
  {
   "cell_type": "code",
   "execution_count": null,
   "id": "1d61e5f4",
   "metadata": {},
   "outputs": [],
   "source": [
    "from scipy.stats import chi2_contingency"
   ]
  },
  {
   "cell_type": "code",
   "execution_count": null,
   "id": "cf4160bf",
   "metadata": {},
   "outputs": [],
   "source": [
    "chi2, p, dof, expected = chi2_contingency(contingency_table)\n",
    "print(f\"The chi-square statistic is {chi2:.3f}\")\n",
    "print(f\"The p-value is {p:.3f}\")"
   ]
  },
  {
   "cell_type": "code",
   "execution_count": null,
   "id": "02f9c078",
   "metadata": {},
   "outputs": [],
   "source": [
    "if p < alpha:\n",
    "    print(\"We reject the null hypothesis and conclude that:\", alternative_hypothesis)\n",
    "else:\n",
    "    print(\"We fail to reject the null hypothesis and conclude that:\", null_hypothesis)"
   ]
  },
  {
   "cell_type": "markdown",
   "id": "88f075ae",
   "metadata": {},
   "source": [
    "**Association between Settlement and Building Fenced**"
   ]
  },
  {
   "cell_type": "code",
   "execution_count": null,
   "id": "7c119934",
   "metadata": {},
   "outputs": [],
   "source": [
    "contingency_table1 = pd.crosstab(df['Settlement'], df['Building_Fenced'])\n",
    "print(contingency_table1)\n",
    "ax = contingency_table1.plot(kind='bar', stacked=True)\n",
    "for rect in ax.patches:\n",
    "    # Find where everything is located\n",
    "    height = rect.get_height()\n",
    "    width = rect.get_width()\n",
    "    x = rect.get_x()\n",
    "    y = rect.get_y()\n",
    "    \n",
    "    # The height of the bar is the data value and can be used as the label\n",
    "    label_text = f'{height:.0f}'  # f'{height:.2f}' to format decimal values\n",
    "    \n",
    "    # ax.text(x, y, text)\n",
    "    label_x = x + width / 2\n",
    "    label_y = y + height / 2\n",
    "\n",
    "    # plot only when height is greater than specified value\n",
    "    if height > 0:\n",
    "        ax.text(label_x, label_y, label_text, ha='center', va='center', fontsize=8)\n",
    "# title\n",
    "plt.title('Association betwen Settlement and Fenced')\n",
    "\n",
    "# add plot labels\n",
    "plt.xlabel('Settlement')\n",
    "plt.legend(title='Fenced Building', loc='upper right')\n",
    "\n",
    "# show plot\n",
    "plt.show()"
   ]
  },
  {
   "cell_type": "markdown",
   "id": "45bd8b3c",
   "metadata": {},
   "source": [
    "\n",
    "\n",
    "\n",
    "All the buildings in the urban settlement are not fenced, all but two buildings in the rural settlement are fenced."
   ]
  },
  {
   "cell_type": "code",
   "execution_count": null,
   "id": "5111f06d",
   "metadata": {},
   "outputs": [],
   "source": [
    "null_hypothesis = \"There is no association between settlement and fenced.\"\n",
    "alternative_hypothesis = \"There is an association between settlement and fenced.\"\n",
    "alpha = 0.05\n",
    "chi2, p, dof, expected = chi2_contingency(contingency_table1)\n",
    "print(f\"The chi-square statistic is {chi2:.3f}\")\n",
    "print(f\"The p-value is {p:.3f}\")"
   ]
  },
  {
   "cell_type": "code",
   "execution_count": null,
   "id": "663e035c",
   "metadata": {},
   "outputs": [],
   "source": [
    "if p < alpha:\n",
    "    print(\"We reject the null hypothesis and conclude that:\", alternative_hypothesis)\n",
    "else:\n",
    "    print(\"We fail to reject the null hypothesis and conclude that:\", null_hypothesis)"
   ]
  },
  {
   "cell_type": "markdown",
   "id": "b9c8bb6f",
   "metadata": {},
   "source": [
    "**Association between Settlement vs Building Painted**"
   ]
  },
  {
   "cell_type": "code",
   "execution_count": null,
   "id": "2c984cd5",
   "metadata": {},
   "outputs": [],
   "source": [
    "contingency_table2 = pd.crosstab(df['Settlement'], df['Building_Painted'])\n",
    "print(contingency_table2)\n",
    "ax = contingency_table2.plot(kind='bar', stacked=True)\n",
    "for rect in ax.patches:\n",
    "    # Find where everything is located\n",
    "    height = rect.get_height()\n",
    "    width = rect.get_width()\n",
    "    x = rect.get_x()\n",
    "    y = rect.get_y()\n",
    "    \n",
    "    # The height of the bar is the data value and can be used as the label\n",
    "    label_text = f'{height:.0f}'  # f'{height:.2f}' to format decimal values\n",
    "    \n",
    "    # ax.text(x, y, text)\n",
    "    label_x = x + width / 2\n",
    "    label_y = y + height / 2\n",
    "\n",
    "    # plot only when height is greater than specified value\n",
    "    if height > 0:\n",
    "        ax.text(label_x, label_y, label_text, ha='center', va='center', fontsize=8)\n",
    "# title\n",
    "plt.title('Association betwen Settlement and Painted')\n",
    "\n",
    "# add plot labels\n",
    "plt.xlabel('Settlement')\n",
    "plt.legend(title='Buiding Painted', loc='upper right')\n",
    "\n",
    "# show plot\n",
    "plt.show()"
   ]
  },
  {
   "cell_type": "markdown",
   "id": "c300f879",
   "metadata": {},
   "source": [
    "99% of the buildings in the rural settlement are not painted, 49% of buildings in the urban settlement are not painted and 51% of buildings in the urban settlement are painted."
   ]
  },
  {
   "cell_type": "code",
   "execution_count": null,
   "id": "54c1e74c",
   "metadata": {},
   "outputs": [],
   "source": [
    "null_hypothesis = \"There is no association between settlement and painted.\"\n",
    "alternative_hypothesis = \"There is an association between settlement and painted.\"\n",
    "alpha = 0.05\n",
    "chi2, p, dof, expected = chi2_contingency(contingency_table2)\n",
    "print(f\"The chi-square statistic is {chi2:.3f}\")\n",
    "print(f\"The p-value is {p:.3f}\")"
   ]
  },
  {
   "cell_type": "code",
   "execution_count": null,
   "id": "176c624d",
   "metadata": {},
   "outputs": [],
   "source": [
    "if p < alpha:\n",
    "    print(\"We reject the null hypothesis and conclude that:\", alternative_hypothesis)\n",
    "else:\n",
    "    print(\"We fail to reject the null hypothesis and conclude that:\", null_hypothesis)"
   ]
  },
  {
   "cell_type": "markdown",
   "id": "51cc6e1b",
   "metadata": {},
   "source": [
    "**Association between Settlement and Building Type**"
   ]
  },
  {
   "cell_type": "code",
   "execution_count": null,
   "id": "27fd7b2f",
   "metadata": {},
   "outputs": [],
   "source": []
  },
  {
   "cell_type": "code",
   "execution_count": null,
   "id": "4d84aa72",
   "metadata": {},
   "outputs": [],
   "source": [
    "contingency_table4 = pd.crosstab(df['Settlement'], df['Building_Type'])\n",
    "print(contingency_table4)\n",
    "ax = contingency_table4.plot(kind='bar', stacked=True,color =['#ED413E','#EFB786','#A78B71','#E1DCE0'])\n",
    "for rect in ax.patches:\n",
    "    # Find where everything is located\n",
    "    height = rect.get_height()\n",
    "    width = rect.get_width()\n",
    "    x = rect.get_x()\n",
    "    y = rect.get_y()\n",
    "    \n",
    "    # The height of the bar is the data value and can be used as the label\n",
    "    label_text = f'{height:.0f}'  # f'{height:.2f}' to format decimal values\n",
    "    \n",
    "    # ax.text(x, y, text)\n",
    "    label_x = x + width / 2\n",
    "    label_y = y + height / 2\n",
    "\n",
    "    # plot only when height is greater than specified value\n",
    "    if height > 0:\n",
    "        ax.text(label_x, label_y, label_text, ha='center', va='center', fontsize=8)\n",
    "# title\n",
    "plt.title('Association betwen Settlement and Building Type')\n",
    "# add plot labels\n",
    "plt.xlabel('Building_Type')\n",
    "plt.legend(title='Building_Type', loc='upper right')\n",
    "\n",
    "# show plot\n",
    "plt.show()"
   ]
  },
  {
   "cell_type": "markdown",
   "id": "323b02dd",
   "metadata": {},
   "source": [
    "From the above graph, the number of building types is almost the same for settlement rural and urban."
   ]
  },
  {
   "cell_type": "code",
   "execution_count": null,
   "id": "5b2c3466",
   "metadata": {},
   "outputs": [],
   "source": [
    "null_hypothesis = \"There is no association between settlement and building type.\"\n",
    "alternative_hypothesis = \"There is an association between settlement and building type.\"\n",
    "hi2, p, dof, expected = chi2_contingency(contingency_table4)\n",
    "print(f\"The chi-square statistic is {chi2:.3f}\")\n",
    "print(f\"The p-value is {p:.3f}\")"
   ]
  },
  {
   "cell_type": "code",
   "execution_count": null,
   "id": "f090f95a",
   "metadata": {},
   "outputs": [],
   "source": [
    "if p < alpha:\n",
    "    print(\"We reject the null hypothesis and conclude that:\", alternative_hypothesis)\n",
    "else:\n",
    "    print(\"We fail to reject the null hypothesis and conclude that:\", null_hypothesis)"
   ]
  },
  {
   "cell_type": "markdown",
   "id": "710e78f7",
   "metadata": {},
   "source": [
    "**Association between Building type and Residential**"
   ]
  },
  {
   "cell_type": "code",
   "execution_count": null,
   "id": "0d2dde5e",
   "metadata": {},
   "outputs": [],
   "source": [
    "contingency_table5 = pd.crosstab(df['Building_Type'], df['Residential'])\n",
    "print(contingency_table5)\n",
    "ax = contingency_table5.plot(kind='bar', stacked=True)\n",
    "#ax.set_yticks([])\n",
    "for rect in ax.patches:\n",
    "    # Find where everything is located\n",
    "    height = rect.get_height()\n",
    "    width = rect.get_width()\n",
    "    x = rect.get_x()\n",
    "    y = rect.get_y()\n",
    "    \n",
    "    # The height of the bar is the data value and can be used as the label\n",
    "    label_text = f'{height:.0f}'  # f'{height:.2f}' to format decimal values\n",
    "    \n",
    "    # ax.text(x, y, text)\n",
    "    label_x = x + width / 2\n",
    "    label_y = y + height / 2\n",
    "\n",
    "    # plot only when height is greater than specified value\n",
    "    if height > 0:\n",
    "        ax.text(label_x, label_y, label_text, ha='center', va='center', fontsize=8)\n",
    "# title\n",
    "plt.title('Association betwen Building Type and Residential Building')\n",
    "# add plot labels\n",
    "plt.xlabel('Building_Type')\n",
    "plt.legend(title='Residential', loc='upper right')\n",
    "\n",
    "# show plot\n",
    "plt.show()"
   ]
  },
  {
   "cell_type": "code",
   "execution_count": null,
   "id": "0dc8aa46",
   "metadata": {},
   "outputs": [],
   "source": [
    "from matplotlib.ticker import FuncFormatter\n",
    "contingency_table5['Residential_Percent'] = contingency_table5[1]/(contingency_table5[0]+contingency_table5[1])\n",
    "#contingency_table5['Residential_Percent'] = contingency_table5['Residential_Percent'].apply(lambda x: '{:.2%}'.format(x))\n",
    "# create a bar chart using the percentage values\n",
    "#print(contingency_table5.index)\n",
    "plt.bar(contingency_table5.index,contingency_table5['Residential_Percent'])\n",
    "\n",
    "# set the y-axis limits to 0% and 100%\n",
    "plt.ylim(0, 1)\n",
    "plt.gca().yaxis.set_major_formatter(FuncFormatter(lambda y, _: '{:.0%}'.format(y)))\n",
    "plt.title('Proportion of Residential Building for Each Building Type')\n",
    "plt.xlabel('Building_Type')\n",
    "plt.ylabel('Percentage')\n",
    "# show the plot\n",
    "plt.show()"
   ]
  },
  {
   "cell_type": "markdown",
   "id": "a16c665d",
   "metadata": {},
   "source": [
    "Buildings of type one and two have less residential buildings(less than 30%) unlike buildings of type 3 and 4 which have more residential buildings(more than 50% of type 3 and type 4 buildings are residential)."
   ]
  },
  {
   "cell_type": "code",
   "execution_count": null,
   "id": "01f64474",
   "metadata": {},
   "outputs": [],
   "source": [
    "print(contingency_table5)\n",
    "ax = contingency_table5['Residential_Percent'].plot(kind='bar', stacked=False)\n",
    "#ax.annotate(f'{v} ({v/sum(y)*100:.1f}%)', xy=(i, v), ha='center', va='bottom')\n",
    "\n",
    "ax.set_yticks([])\n",
    "#print(col,\"has\",\"%.3f%%\" %(col_percent),\" missing values\")\n",
    "for rect in ax.patches:\n",
    "    # Find where everything is located\n",
    "    height = rect.get_height()\n",
    "    width = rect.get_width()\n",
    "    x = rect.get_x()\n",
    "    y = rect.get_y()\n",
    "    \n",
    "    # The height of the bar is the data value and can be used as the label\n",
    "    label_text = f'{height:.0f}'  # f'{height:.2f}' to format decimal values\n",
    "    \n",
    "    # ax.text(x, y, text)\n",
    "    label_x = x + width / 2\n",
    "    label_y = y + height / 2\n",
    "\n",
    "    # plot only when height is greater than specified value\n",
    "    if height > 0:\n",
    "        ax.text(label_x, label_y, label_text, ha='center', va='center', fontsize=8)\n",
    "# title\n",
    "plt.title('Proportion of Residential Building for Each Building Type')\n",
    "# add plot labels\n",
    "plt.xlabel('Building_Type')\n",
    "plt.legend(loc='upper right')\n",
    "\n",
    "# show plot\n",
    "plt.show()"
   ]
  },
  {
   "cell_type": "markdown",
   "id": "4b31a985",
   "metadata": {},
   "source": [
    "## Target"
   ]
  },
  {
   "cell_type": "code",
   "execution_count": null,
   "id": "5cd38c52",
   "metadata": {},
   "outputs": [],
   "source": [
    "sns.countplot(x=df['Claim'], palette=['#F55050','#E8D2A6'])\n",
    "plt.title('Count of Claims')\n",
    "plt.xlabel('Count',fontdict={'fontweight':'bold'})\n",
    "plt.ylabel('Claim')\n",
    "plt.show()"
   ]
  },
  {
   "cell_type": "code",
   "execution_count": null,
   "id": "3d3c3566",
   "metadata": {},
   "outputs": [],
   "source": [
    "non_claim = df[df['Claim']==0]['Claim'].value_counts()\n",
    "claim = df[df['Claim']==1]['Claim'].value_counts()\n",
    "claim"
   ]
  },
  {
   "cell_type": "code",
   "execution_count": null,
   "id": "b1d4f0c8",
   "metadata": {},
   "outputs": [],
   "source": [
    "(1634/5526)*100"
   ]
  },
  {
   "cell_type": "markdown",
   "id": "c7eb6df3",
   "metadata": {},
   "source": [
    "## Target and Features\n",
    "\n",
    "**How does number of windows influence claims?** "
   ]
  },
  {
   "cell_type": "code",
   "execution_count": null,
   "id": "bee4458e",
   "metadata": {},
   "outputs": [],
   "source": [
    "contingency_table6 = pd.crosstab(df['NumberOfWindows'], df['Claim'])\n",
    "print(contingency_table6)\n",
    "ax = contingency_table6.plot(kind='bar', stacked=True, color =['#E1DCE0','#CEAD6D'])\n",
    "for rect in ax.patches:\n",
    "    # Find where everything is located\n",
    "    height = rect.get_height()\n",
    "    width = rect.get_width()\n",
    "    x = rect.get_x()\n",
    "    y = rect.get_y()\n",
    "    \n",
    "    # The height of the bar is the data value and can be used as the label\n",
    "    label_text = f'{height:.0f}'  # f'{height:.2f}' to format decimal values\n",
    "    \n",
    "    # ax.text(x, y, text)\n",
    "    label_x = x + width / 2\n",
    "    label_y = y + height / 2\n",
    "\n",
    "    # plot only when height is greater than specified value\n",
    "    if height > 0:\n",
    "        ax.text(label_x, label_y, label_text, ha='center', va='center', fontsize=8)\n",
    "# title\n",
    "plt.title('Count of Claims based on Number of Windows')\n",
    "# add plot labels\n",
    "plt.xlabel('Number of Windows')\n",
    "plt.legend(title='Claim', loc='upper right')\n",
    "\n",
    "# show plot\n",
    "plt.show()"
   ]
  },
  {
   "cell_type": "code",
   "execution_count": null,
   "id": "3e474075",
   "metadata": {},
   "outputs": [],
   "source": [
    "contingency_table6['Percentage']=contingency_table6[1]/(contingency_table6[0]+contingency_table6[1])\n",
    "contingency_table6\n",
    "plt.bar(contingency_table6.index,contingency_table6['Percentage'], color='#CEAD6D')\n",
    "\n",
    "# set the y-axis limits to 0% and 100%\n",
    "plt.ylim(0, 1)\n",
    "plt.gca().yaxis.set_major_formatter(FuncFormatter(lambda y, _: '{:.0%}'.format(y)))\n",
    "plt.title('Proportion of Claims based on Number of Windows')\n",
    "plt.xlabel('Number of Windows')\n",
    "plt.ylabel('Claim Percentage')\n",
    "# show the plot\n",
    "plt.show()"
   ]
  },
  {
   "cell_type": "markdown",
   "id": "f8d2f4cd",
   "metadata": {},
   "source": [
    "There is high percentage of claim among bulding with high number of windows unlike building with low number of windows with low percentage of claim"
   ]
  },
  {
   "cell_type": "markdown",
   "id": "f7552a3d",
   "metadata": {},
   "source": [
    "**How does Building Type influence claims?**"
   ]
  },
  {
   "cell_type": "code",
   "execution_count": null,
   "id": "6390ef10",
   "metadata": {},
   "outputs": [],
   "source": [
    "contingency_table7 = pd.crosstab(df['Building_Type'], df['Claim'])\n",
    "print(contingency_table7)\n",
    "ax = contingency_table7.plot(kind='bar', stacked=True, color =['#E1DCE0','#CEAD6D'])\n",
    "for rect in ax.patches:\n",
    "    # Find where everything is located\n",
    "    height = rect.get_height()\n",
    "    width = rect.get_width()\n",
    "    x = rect.get_x()\n",
    "    y = rect.get_y()\n",
    "    \n",
    "    # The height of the bar is the data value and can be used as the label\n",
    "    label_text = f'{height:.0f}'  # f'{height:.2f}' to format decimal values\n",
    "    \n",
    "    # ax.text(x, y, text)\n",
    "    label_x = x + width / 2\n",
    "    label_y = y + height / 2\n",
    "\n",
    "    # plot only when height is greater than specified value\n",
    "    if height > 0:\n",
    "        ax.text(label_x, label_y, label_text, ha='center', va='center', fontsize=8)\n",
    "# title\n",
    "plt.title('Count of Claims based on Building Type')\n",
    "# add plot labels\n",
    "plt.xlabel('Building_Type')\n",
    "plt.legend(title='Building_Type', loc='upper right')\n",
    "\n",
    "# show plot\n",
    "plt.show()"
   ]
  },
  {
   "cell_type": "code",
   "execution_count": null,
   "id": "bcd050a8",
   "metadata": {},
   "outputs": [],
   "source": [
    "contingency_table7['Percentage']=contingency_table7[1]/(contingency_table7[0]+contingency_table7[1])\n",
    "contingency_table7\n",
    "plt.bar(contingency_table7.index,contingency_table7['Percentage'], color='#CEAD6D')\n",
    "\n",
    "# set the y-axis limits to 0% and 100%\n",
    "plt.ylim(0, 1)\n",
    "plt.gca().yaxis.set_major_formatter(FuncFormatter(lambda y, _: '{:.0%}'.format(y)))\n",
    "\n",
    "plt.title('Proportion of Claims for each Building Type ')\n",
    "plt.xlabel('Building_Type')\n",
    "plt.ylabel('Claim Percentage')\n",
    "\n",
    "# show plot\n",
    "plt.show()"
   ]
  },
  {
   "cell_type": "markdown",
   "id": "8e1a6707",
   "metadata": {},
   "source": [
    "There is high percentage of claim among bulding with high type unlike building with low type with low percentage of claim"
   ]
  },
  {
   "cell_type": "markdown",
   "id": "8b9674d2",
   "metadata": {},
   "source": [
    "**How does settlement influence claims?**"
   ]
  },
  {
   "cell_type": "code",
   "execution_count": null,
   "id": "3e3ef577",
   "metadata": {},
   "outputs": [],
   "source": [
    "contingency_table8 = pd.crosstab(df['Settlement'], df['Claim'])\n",
    "print(contingency_table8)\n",
    "ax = contingency_table8.plot(kind='bar', stacked=True)\n",
    "for rect in ax.patches:\n",
    "    # Find where everything is located\n",
    "    height = rect.get_height()\n",
    "    width = rect.get_width()\n",
    "    x = rect.get_x()\n",
    "    y = rect.get_y()\n",
    "    \n",
    "    # The height of the bar is the data value and can be used as the label\n",
    "    label_text = f'{height:.0f}'  # f'{height:.2f}' to format decimal values\n",
    "    \n",
    "    # ax.text(x, y, text)\n",
    "    label_x = x + width / 2\n",
    "    label_y = y + height / 2\n",
    "\n",
    "    # plot only when height is greater than specified value\n",
    "    if height > 0:\n",
    "        ax.text(label_x, label_y, label_text, ha='center', va='center', fontsize=8)\n",
    "# title\n",
    "plt.title('Association between Settlement and Claim')\n",
    "# add plot labels\n",
    "plt.xlabel('Settlement')\n",
    "plt.legend(title='Settlement', loc='upper right')\n",
    "\n",
    "# show plot\n",
    "plt.show()                       "
   ]
  },
  {
   "cell_type": "code",
   "execution_count": null,
   "id": "ea7cd2dc",
   "metadata": {},
   "outputs": [],
   "source": [
    "contingency_table8['Percentage']=contingency_table8[1]/(contingency_table8[0]+contingency_table8[1])\n",
    "contingency_table8\n",
    "plt.bar(contingency_table8.index,contingency_table8['Percentage'])\n",
    "\n",
    "# set the y-axis limits to 0% and 100%\n",
    "plt.ylim(0, 1)\n",
    "plt.gca().yaxis.set_major_formatter(FuncFormatter(lambda y, _: '{:.0%}'.format(y)))\n",
    "# title\n",
    "plt.title('Proportion of Claims for each Settlement')\n",
    "# add plot labels\n",
    "plt.xlabel('Settlement')\n",
    "plt.ylabel('Claim Percentage')\n",
    "# show plot\n",
    "plt.show()"
   ]
  },
  {
   "cell_type": "markdown",
   "id": "368d5555",
   "metadata": {},
   "source": [
    "There is higher percent of claim in the rural settlement(25%) than urban settlement(20%)"
   ]
  },
  {
   "cell_type": "markdown",
   "id": "e8850ef5",
   "metadata": {},
   "source": [
    "**How does building dimension influence claims?**"
   ]
  },
  {
   "cell_type": "code",
   "execution_count": null,
   "id": "4876990b",
   "metadata": {},
   "outputs": [],
   "source": [
    "t = df.groupby('Claim').median()\n",
    "t"
   ]
  },
  {
   "cell_type": "code",
   "execution_count": null,
   "id": "2a68ff03",
   "metadata": {},
   "outputs": [],
   "source": [
    "l = df[df['Building Dimension']<1000]"
   ]
  },
  {
   "cell_type": "code",
   "execution_count": null,
   "id": "f6afa38f",
   "metadata": {},
   "outputs": [],
   "source": [
    "sns.countplot(x=l['Claim'])\n",
    "plt.title('Total claim for building dimension less than 1000 m2')\n",
    "plt.show()"
   ]
  },
  {
   "cell_type": "code",
   "execution_count": null,
   "id": "b676412a",
   "metadata": {},
   "outputs": [],
   "source": [
    "h = df[df['Building Dimension']>=1000]\n",
    "sns.countplot(x=h['Claim'])\n",
    "plt.title('Total claim for building dimension greater than and equal to 1000 m2')\n",
    "plt.show()"
   ]
  },
  {
   "cell_type": "markdown",
   "id": "444abc79",
   "metadata": {},
   "source": [
    "Building having dimension less than 1000 m2 have less number of claims unlike building having dimension equal and greater than 1000 m2. Even though there are more insured building with dimension less than 1000 m2."
   ]
  },
  {
   "cell_type": "code",
   "execution_count": null,
   "id": "8461d01b",
   "metadata": {
    "scrolled": true
   },
   "outputs": [],
   "source": [
    "df[['Claim','Building Dimension']].corr()"
   ]
  },
  {
   "cell_type": "markdown",
   "id": "5e664e72",
   "metadata": {},
   "source": [
    "### Multivariate Analysis"
   ]
  },
  {
   "cell_type": "markdown",
   "id": "2a15b219",
   "metadata": {},
   "source": [
    "**Relationship between building dimension, settlement and claim**"
   ]
  },
  {
   "cell_type": "code",
   "execution_count": null,
   "id": "9987de63",
   "metadata": {},
   "outputs": [],
   "source": [
    "sns.catplot(x=\"Settlement\", y=\"Building Dimension\", hue='Claim', data=df, kind=\"bar\", ci=None)\n",
    "plt.title('Relationship between building dimension, settlement and claim')\n",
    "plt.show()"
   ]
  },
  {
   "cell_type": "markdown",
   "id": "7a636c1d",
   "metadata": {},
   "source": [
    "From the above graph, we can see that building with high dimension and located in the rural aettlement have more claims. "
   ]
  },
  {
   "cell_type": "markdown",
   "id": "03325462",
   "metadata": {},
   "source": [
    "**Relationship between building dimension, number of windows and claim**"
   ]
  },
  {
   "cell_type": "code",
   "execution_count": null,
   "id": "4f0c8f8d",
   "metadata": {},
   "outputs": [],
   "source": [
    "sns.catplot(x=\"NumberOfWindows\", y=\"Building Dimension\", hue='Claim', data=df, kind=\"bar\", ci=None, color='#ae7954')\n",
    "plt.title('Relationship between building dimension, number of windows and claim')\n",
    "plt.show()"
   ]
  },
  {
   "cell_type": "markdown",
   "id": "dcb55c13",
   "metadata": {},
   "source": [
    "From the above graph, Building with high dimension and high number of windows have more claims."
   ]
  },
  {
   "cell_type": "markdown",
   "id": "8e6252d4",
   "metadata": {},
   "source": [
    "**Relationship between date of occupancy, building dimension and claim**"
   ]
  },
  {
   "cell_type": "code",
   "execution_count": null,
   "id": "2bdb5a33",
   "metadata": {},
   "outputs": [],
   "source": [
    "sns.catplot(x=\"Date_of_Occupancy\", y=\"Building Dimension\", order=df['Date_of_Occupancy'].value_counts().index[:10],hue='Claim', data=df, kind=\"bar\", ci=None)\n",
    "plt.title('Relationship between date of occupancy, building dimension and claim')\n",
    "plt.show()"
   ]
  },
  {
   "cell_type": "code",
   "execution_count": null,
   "id": "3fe0c397",
   "metadata": {},
   "outputs": [],
   "source": [
    "df['Date_of_Occupancy'].dtype"
   ]
  },
  {
   "cell_type": "markdown",
   "id": "c531b814",
   "metadata": {},
   "source": [
    "## Data Imputation\n",
    "\n",
    "**Garden**"
   ]
  },
  {
   "cell_type": "code",
   "execution_count": null,
   "id": "805bfc9b",
   "metadata": {},
   "outputs": [],
   "source": [
    "if (df['Settlement']=='Urban').any():\n",
    "    df['Garden'] = df['Garden'].fillna('No Garden')\n",
    "elif (df['Settlement']== 'Urban').any():\n",
    "    df['Garden'] = df['Garden'].fillna('Garden')\n",
    "df['Garden'].isna().sum()"
   ]
  },
  {
   "cell_type": "markdown",
   "id": "98b967d0",
   "metadata": {},
   "source": [
    "**Date of Occupancy**"
   ]
  },
  {
   "cell_type": "code",
   "execution_count": null,
   "id": "990b54d2",
   "metadata": {},
   "outputs": [],
   "source": [
    "urb = (df[df['Settlement']== 'Urban']['Date_of_Occupancy']).median()\n",
    "ru = (df[df['Settlement']== 'Rural']['Date_of_Occupancy']).median()"
   ]
  },
  {
   "cell_type": "code",
   "execution_count": null,
   "id": "13f76ce5",
   "metadata": {},
   "outputs": [],
   "source": [
    "if (df['Settlement']=='Urban').any():\n",
    "    df['Date_of_Occupancy'].fillna(urb, inplace=True)\n",
    "elif (df['Settlement']=='Rural').any():\n",
    "    df['Date_of_Occupancy'].fillna(ru, inplace=True)\n",
    "df['Date_of_Occupancy'].isna().sum()"
   ]
  },
  {
   "cell_type": "markdown",
   "id": "0331be59",
   "metadata": {},
   "source": [
    "**Number of Windows**"
   ]
  },
  {
   "cell_type": "code",
   "execution_count": null,
   "id": "990cd348",
   "metadata": {},
   "outputs": [],
   "source": [
    "df['NumberOfWindows'].fillna('No Information', inplace =True)\n",
    "df['NumberOfWindows'].isna().sum()"
   ]
  },
  {
   "cell_type": "markdown",
   "id": "d70a052d",
   "metadata": {},
   "source": [
    "**Building Dimension**"
   ]
  },
  {
   "cell_type": "code",
   "execution_count": null,
   "id": "d509fb68",
   "metadata": {},
   "outputs": [],
   "source": [
    "fenc = (df[df['Building_Fenced']== 'Fenced']['Building Dimension']).mean()\n",
    "notfenc = (df[df['Building_Fenced']== 'Not Fenced']['Building Dimension']).mean()"
   ]
  },
  {
   "cell_type": "code",
   "execution_count": null,
   "id": "18abafa9",
   "metadata": {},
   "outputs": [],
   "source": [
    "if (df['Building_Fenced']== 'Fenced').any():\n",
    "    df['Building Dimension'].fillna(fenc, inplace=True)\n",
    "elif (df['Building_Fenced']== 'Not Fenced').any():\n",
    "    df['Building Dimension'].fillna(notfenc, inplace=True)\n",
    "df['Building Dimension'].isna().sum()"
   ]
  },
  {
   "cell_type": "code",
   "execution_count": null,
   "id": "29171af9",
   "metadata": {},
   "outputs": [],
   "source": [
    "(df[df['Building_Fenced']=='Not Fenced']['Building Dimension']).isna().sum()"
   ]
  },
  {
   "cell_type": "code",
   "execution_count": null,
   "id": "87ed4c46",
   "metadata": {},
   "outputs": [],
   "source": [
    "df.head(10)"
   ]
  },
  {
   "cell_type": "markdown",
   "id": "db898c21",
   "metadata": {},
   "source": [
    "## Feature Engineering\n"
   ]
  },
  {
   "cell_type": "markdown",
   "id": "9811bc84",
   "metadata": {},
   "source": [
    "**Number of Windows**"
   ]
  },
  {
   "cell_type": "code",
   "execution_count": null,
   "id": "bf358732",
   "metadata": {},
   "outputs": [],
   "source": [
    "lower_than_5 = ['1','2','3','4']\n",
    "between_5_10 = ['5','6','7','8','9']\n",
    "for i in lower_than_5:\n",
    "    df['NumberOfWindows'].replace(i,'<5', inplace=True)\n",
    "for i in between_5_10:\n",
    "    df['NumberOfWindows'].replace(i,'>=5 & <10', inplace=True)\n"
   ]
  },
  {
   "cell_type": "markdown",
   "id": "6e81a5d8",
   "metadata": {},
   "source": [
    "**Date of Occupancy**"
   ]
  },
  {
   "cell_type": "code",
   "execution_count": null,
   "id": "d67ade47",
   "metadata": {},
   "outputs": [],
   "source": [
    "# Categorizing Date of Occupancy into 6 Categories\n",
    "# Between 1500 & 1600: 1500 is excluded and 1600 is included\n",
    "# Between 1600 & 1700: 1600 is excluded and 1700 is included\n",
    "# Between 1700 & 1800: 1700 is excluded and 1800 is included\n",
    "# Between 1800 & 1900: 1800 is excluded and 1900 is included\n",
    "# Between 1900 & 2000: 1900 is excluded and 2000 is included\n",
    "# Between 2000 & 2100: 2000 is excluded and 2100 is included\n",
    "\n",
    "#df['Date_of_Occupancy'] = pd.cut(x = df['Date_of_Occupancy'], bins=[1500,1600,1700,1800,1900,2000,2100], labels=['Between 1500 & 1600', 'Between 1600 & 1700', 'Between 1700 & 1800','Between 1800 & 1900','Between 1900 & 2000','Between 2000 & 2100'])\n",
    "df['Building age'] = df['YearOfObservation']-df['Date_of_Occupancy']\n",
    "df"
   ]
  },
  {
   "cell_type": "markdown",
   "id": "652c6850",
   "metadata": {},
   "source": [
    "**Insured Period**"
   ]
  },
  {
   "cell_type": "code",
   "execution_count": null,
   "id": "8a66ed3b",
   "metadata": {},
   "outputs": [],
   "source": [
    "threshold = 1\n",
    "# Use np.where() to create two categories based on the threshold\n",
    "df['Insured_Period'] = np.where(df['Insured_Period'] < threshold,'Less than 1', 'Equal to 1')\n",
    "df"
   ]
  },
  {
   "cell_type": "code",
   "execution_count": null,
   "id": "08fe62fa",
   "metadata": {},
   "outputs": [],
   "source": [
    "#df_encoded = pd.get_dummies(df, columns=['Insured_Period','Building_Painted','Building_Fenced','Garden','Settlement','Date_of_Occupancy','NumberOfWindows'])\n",
    "#df_encoded.drop(['Customer Id','Building_Fenced_Not Fenced','Geo_Code','Insured_Period_Less than 1','Building_Painted_Not Painted','Building_Fenced_Not Fenced','Garden_No Garden','Settlement_Urban','Date_of_Occupancy_Between 2000 & 2100','NumberOfWindows_No Information'],inplace=True, axis=1)\n",
    "#df_encoded = df_encoded[['Building Dimension','YearOfObservation','Insured_Period_Equal to 1','Residential','Building_Painted_Painted','Building_Fenced_Fenced','Garden_Garden','Settlement_Rural','Building_Type','Date_of_Occupancy_Between 1500 & 1600','Date_of_Occupancy_Between 1600 & 1700','Date_of_Occupancy_Between 1700 & 1800','Date_of_Occupancy_Between 1800 & 1900','Date_of_Occupancy_Between 1900 & 2000','NumberOfWindows_<5','NumberOfWindows_>=5 & <10','NumberOfWindows_>=10','Claim']]\n",
    "\n",
    "df_encoded = pd.get_dummies(df, columns=['Insured_Period','Building_Painted','Building_Fenced','Garden','Settlement','NumberOfWindows'])\n",
    "df_encoded.drop(['Customer Id','YearOfObservation','Building_Fenced_Not Fenced','Geo_Code','Date_of_Occupancy','Insured_Period_Less than 1','Building_Painted_Not Painted','Building_Fenced_Not Fenced','Garden_No Garden','Settlement_Urban','NumberOfWindows_No Information'],inplace=True, axis=1)\n",
    "df_encoded = df_encoded[['Building Dimension','Insured_Period_Equal to 1','Residential','Building_Painted_Painted','Building_Fenced_Fenced','Garden_Garden','Settlement_Rural','Building_Type','Building age','NumberOfWindows_<5','NumberOfWindows_>=5 & <10','NumberOfWindows_>=10','Claim']]\n",
    "df_encoded = df_encoded.rename(columns={'Building_Painted_Painted':'Painted','Building_Fenced_Fenced':'Fenced','Garden_Garden':'Garden','Settlement_Rural':'Rural'})\n",
    "df_encoded"
   ]
  },
  {
   "cell_type": "code",
   "execution_count": null,
   "id": "c3f7ac1c",
   "metadata": {},
   "outputs": [],
   "source": [
    "df_encoded.to_csv('df_encoded_2.csv')"
   ]
  },
  {
   "cell_type": "code",
   "execution_count": null,
   "id": "3ba4f5b3",
   "metadata": {},
   "outputs": [],
   "source": []
  },
  {
   "cell_type": "markdown",
   "id": "1b832f2a",
   "metadata": {},
   "source": [
    "**Dividing the dataset into Features and Target**"
   ]
  },
  {
   "cell_type": "code",
   "execution_count": null,
   "id": "6780788c",
   "metadata": {},
   "outputs": [],
   "source": [
    "target = 'Claim'\n",
    "X = df_encoded.drop([target,'YearOfObservation'], axis=1)\n",
    "y = df_encoded[target]\n",
    "X"
   ]
  },
  {
   "cell_type": "markdown",
   "id": "728cc594",
   "metadata": {},
   "source": [
    "**Separating dataset into train and test**"
   ]
  },
  {
   "cell_type": "code",
   "execution_count": null,
   "id": "d09ab455",
   "metadata": {},
   "outputs": [],
   "source": [
    "from sklearn.model_selection import train_test_split\n",
    "X_train, X_test, y_train, y_test = train_test_split(X, y, test_size = 0.2, random_state = 42)\n",
    "\n",
    "print(\"X_train shape:\", X_train.shape)\n",
    "print(\"X_test shape:\", X_test.shape)\n",
    "print(\"y_train shape:\", y_train.shape)\n",
    "print(\"y_test shape:\", y_test.shape)"
   ]
  },
  {
   "cell_type": "code",
   "execution_count": null,
   "id": "d117489f",
   "metadata": {},
   "outputs": [],
   "source": []
  },
  {
   "cell_type": "markdown",
   "id": "b4507d42",
   "metadata": {},
   "source": [
    "**Feature Selection**\n",
    "\n",
    "1) Filter Method: Mutual Information, used to measure the amount of dependence or correlation between a feature and the target variable. The reduction in uncertainty about one variable given knowledge of the other variable."
   ]
  },
  {
   "cell_type": "code",
   "execution_count": null,
   "id": "db057cd6",
   "metadata": {},
   "outputs": [],
   "source": [
    "from sklearn.feature_selection import SelectKBest, mutual_info_classif\n",
    "\n",
    "mi_scores = mutual_info_classif(X, y, discrete_features=[1,2,3,4,5,6,7,8,9,10,11,12,13,14,15])\n",
    "for i, col in enumerate(X.columns):\n",
    "    print(col, (mi_scores[i]*100))"
   ]
  },
  {
   "cell_type": "markdown",
   "id": "f2f76fbb",
   "metadata": {},
   "source": [
    "2) Embedded Method: Lasso Regression, useful when you have a large number of predictors, some of which may be irrelevant or redundant. LASSO performs both variable selection and regularization by setting some of the coefficients to exactly zero. "
   ]
  },
  {
   "cell_type": "code",
   "execution_count": null,
   "id": "8de9ba31",
   "metadata": {},
   "outputs": [],
   "source": [
    "from sklearn.linear_model import Lasso\n",
    "from sklearn.linear_model import LogisticRegression\n",
    "from sklearn.metrics import accuracy_score\n",
    "from sklearn.preprocessing import StandardScaler"
   ]
  },
  {
   "cell_type": "code",
   "execution_count": null,
   "id": "eb0a4433",
   "metadata": {},
   "outputs": [],
   "source": [
    "# Standardize the features\n",
    "# Create a StandardScaler object and fit it to the training data\n",
    "scaler = StandardScaler()\n",
    "scaler.fit(X_train['Building Dimension'].values.reshape(-1, 1)) # Use only the column you want to standardize for fitting\n",
    "\n",
    "# Standardize the column on both the training and testing data\n",
    "X_train['Building Dimension'] = scaler.transform(X_train['Building Dimension'].values.reshape(-1, 1)).flatten()\n",
    "X_test['Building Dimension'] = scaler.transform(X_test['Building Dimension'].values.reshape(-1, 1)).flatten()\n",
    "\n",
    "#alpha=0.1 # alpha is the regularization parameter\n",
    "lasso = LogisticRegression(penalty='l1', C=0.1, solver='liblinear') \n",
    "lasso.fit(X_train, y_train)\n",
    "\n",
    "# print the selected features and their coefficients\n",
    "print(\"Selected Features:\", X_train.iloc[:, lasso.coef_[0]!=0].shape[1])\n",
    "print(\"Coefficients:\", lasso.coef_[0][lasso.coef_[0]!=0])\n",
    "imp_feats = X_train.columns[(lasso.coef_ != 0).ravel().tolist()]\n",
    "print(imp_feats)\n",
    "y_pred = lasso.predict(X_test)\n",
    "# Evaluate the model on the test set\n",
    "accuracy = accuracy_score(y_test, y_pred)\n",
    "\n",
    "print(f\"Accuracy: {accuracy:.2f}\")"
   ]
  },
  {
   "cell_type": "code",
   "execution_count": null,
   "id": "800978e2",
   "metadata": {},
   "outputs": [],
   "source": [
    "from sklearn.linear_model import RidgeClassifier\n",
    "from sklearn.metrics import mean_squared_error\n",
    "from sklearn.metrics import r2_score\n",
    "\n",
    "alpha = 1.0  # regularization strength\n",
    "ridge = RidgeClassifier(alpha=alpha)\n",
    "\n",
    "# Fit the model to the training data\n",
    "ridge.fit(X_train, y_train)\n",
    "coef = ridge.coef_\n",
    "print(coef)\n",
    "\n",
    "# Make predictions on the testing data\n",
    "y_pred = ridge.predict(X_test)\n",
    "r2 = r2_score(y_test, y_pred)\n",
    "print(r2)\n",
    "\n",
    "# Evaluate the model using mean squared error\n",
    "mse = mean_squared_error(y_test, y_pred)\n",
    "print(f\"Mean squared error: {mse:.2f}\")"
   ]
  },
  {
   "cell_type": "code",
   "execution_count": null,
   "id": "a9089b42",
   "metadata": {},
   "outputs": [],
   "source": []
  },
  {
   "cell_type": "code",
   "execution_count": null,
   "id": "f49341e0",
   "metadata": {},
   "outputs": [],
   "source": []
  },
  {
   "cell_type": "code",
   "execution_count": null,
   "id": "09899b2d",
   "metadata": {},
   "outputs": [],
   "source": []
  },
  {
   "cell_type": "markdown",
   "id": "dcdc2919",
   "metadata": {},
   "source": [
    "## Test Dataset"
   ]
  },
  {
   "cell_type": "code",
   "execution_count": null,
   "id": "af1a780d",
   "metadata": {},
   "outputs": [],
   "source": [
    "test_data = pd.read_csv('test_data.csv')\n",
    "test_data.head()"
   ]
  },
  {
   "cell_type": "code",
   "execution_count": null,
   "id": "8025c1ca",
   "metadata": {},
   "outputs": [],
   "source": [
    "missing_data(test_data)"
   ]
  },
  {
   "cell_type": "code",
   "execution_count": null,
   "id": "88fa1f06",
   "metadata": {},
   "outputs": [],
   "source": [
    "# Replace categorical values to make more sense\n",
    "test_data['Building_Painted'] = test_data['Building_Painted'].replace({'N':'Painted','V':'Not Painted'})\n",
    "test_data['Building_Fenced'] = test_data['Building_Fenced'].replace({'N':'Fenced','V':'Not Fenced'})\n",
    "test_data['Garden'] = test_data['Garden'].replace({'V':'Garden','O':'No Garden'})\n",
    "test_data['Settlement'] = test_data['Settlement'].replace({'U':'Urban','R':'Rural'})\n",
    "# changing dots by null in NumberOfWindows column\n",
    "test_data.loc[(test_data['NumberOfWindows']=='   .'),'NumberOfWindows'] = np.nan\n",
    "test_data['NumberOfWindows']"
   ]
  },
  {
   "cell_type": "markdown",
   "id": "8d359fbe",
   "metadata": {},
   "source": [
    "**test data imputation**"
   ]
  },
  {
   "cell_type": "code",
   "execution_count": null,
   "id": "4e31b84b",
   "metadata": {},
   "outputs": [],
   "source": [
    "# Garden\n",
    "if (test_data['Settlement']=='Urban').any():\n",
    "    test_data['Garden'] = test_data['Garden'].fillna('No Garden')\n",
    "elif (test_data['Settlement']== 'Urban').any():\n",
    "    test_data['Garden'] = test_data['Garden'].fillna('Garden')\n",
    "#test_data['Garden'].isna().sum()\n",
    "\n",
    "# Building Dimension\n",
    "fenc = (test_data[test_data['Building_Fenced']== 'Fenced']['Building Dimension']).mean()\n",
    "notfenc = (test_data[test_data['Building_Fenced']== 'Not Fenced']['Building Dimension']).mean\n",
    "if (test_data['Building_Fenced']== 'Fenced').any():\n",
    "    test_data['Building Dimension'].fillna(fenc, inplace=True)\n",
    "elif (test_data['Building_Fenced']== 'Not Fenced').any():\n",
    "    test_data['Building Dimension'].fillna(notfenc, inplace=True)\n",
    "#test_data['Building Dimension'].isna().sum()\n",
    "\n",
    "# Date of Occupancy\n",
    "urb = (test_data[test_data['Settlement']== 'Urban']['Date_of_Occupancy']).median()\n",
    "ru = (test_data[test_data['Settlement']== 'Rural']['Date_of_Occupancy']).median()\n",
    "if (test_data['Settlement']=='Urban').any():\n",
    "    test_data['Date_of_Occupancy'].fillna(urb, inplace=True)\n",
    "elif (test_data['Settlement']=='Rural').any():\n",
    "    test_data['Date_of_Occupancy'].fillna(ru, inplace=True)\n",
    "test_data['Date_of_Occupancy'].isna().sum()\n",
    "\n",
    "# Number of Windows\n",
    "test_data['NumberOfWindows'].fillna('No Information', inplace =True)\n",
    "#test_data['NumberOfWindows'].isna().sum()"
   ]
  },
  {
   "cell_type": "markdown",
   "id": "11b2e225",
   "metadata": {},
   "source": [
    "**Feature Engineering**"
   ]
  },
  {
   "cell_type": "code",
   "execution_count": null,
   "id": "c6bd92c1",
   "metadata": {},
   "outputs": [],
   "source": [
    "# nbr of windows\n",
    "lower_than_5 = ['1','2','3','4']\n",
    "between_5_10 = ['5','6','7','8','9']\n",
    "for i in lower_than_5:\n",
    "    test_data['NumberOfWindows'].replace(i,'<5', inplace=True)\n",
    "for i in between_5_10:\n",
    "    test_data['NumberOfWindows'].replace(i,'>=5 & <10', inplace=True)\n",
    "#test_data['NumberOfWindows'].unique()\n",
    "\n",
    "# date of occupancy\n",
    "test_data['Building age'] = test_data['YearOfObservation']-test_data['Date_of_Occupancy']\n",
    "# Use np.where() to create two categories based on the threshold\n",
    "\n",
    "# insured period\n",
    "test_data['Insured_Period'] = np.where(test_data['Insured_Period'] < threshold,'Less than 1', 'Equal to 1')\n",
    "test_data"
   ]
  },
  {
   "cell_type": "code",
   "execution_count": null,
   "id": "4aeb39da",
   "metadata": {},
   "outputs": [],
   "source": [
    "#test_data_encoded = pd.get_dummies(test_data, columns=['Insured_Period','Building_Painted','Building_Fenced','Garden','Settlement','NumberOfWindows'])\n",
    "#test_data_encoded.drop(['Customer Id','YearOfObservation','Building_Fenced_Not Fenced','Geo_Code','Date_of_Occupancy','Insured_Period_Less than 1','Building_Painted_Not Painted','Building_Fenced_Not Fenced','Garden_No Garden','Settlement_Urban','NumberOfWindows_No Information'],inplace=True, axis=1)\n",
    "test_data_encoded = test_data_encoded[['Building Dimension','Insured_Period_Equal to 1','Residential','Building_Painted_Painted','Building_Fenced_Fenced','Garden_Garden','Settlement_Rural','Building_Type','Building age','NumberOfWindows_<5','NumberOfWindows_>=5 & <10','NumberOfWindows_>=10']]\n",
    "test_data_encoded = test_data_encoded.rename(columns={'Building_Painted_Painted':'Painted','Building_Fenced_Fenced':'Fenced','Garden_Garden':'Garden','Settlement_Rural':'Rural'})\n",
    "test_data_encoded.head(10)"
   ]
  },
  {
   "cell_type": "code",
   "execution_count": null,
   "id": "63d4f433",
   "metadata": {},
   "outputs": [],
   "source": [
    "test_data_encoded.to_csv('test_data_encoded_2.csv')"
   ]
  },
  {
   "cell_type": "code",
   "execution_count": null,
   "id": "87bb72a6",
   "metadata": {},
   "outputs": [],
   "source": []
  },
  {
   "cell_type": "code",
   "execution_count": null,
   "id": "eca27de5",
   "metadata": {},
   "outputs": [],
   "source": [
    "import numpy as np\n",
    "import pandas as pd\n",
    "import statsmodels.api as sm\n",
    "import matplotlib.pyplot as plt\n",
    "import seaborn as sns\n",
    "sns.set()\n",
    "from sklearn.cluster import KMeans"
   ]
  },
  {
   "cell_type": "code",
   "execution_count": null,
   "id": "08ec82ab",
   "metadata": {},
   "outputs": [],
   "source": [
    "x = data.iloc[:,1:3]\n",
    "kmeans = KMeans(3)\n",
    "means.fit(x)\n",
    "identified_clusters = kmeans.fit_predict(x)\n",
    "\n",
    "data_with_clusters = data.copy()\n",
    "data_with_clusters['Clusters'] = identified_clusters \n",
    "plt.scatter(data_with_clusters['Longitude'],data_with_clusters['Latitude'],c=data_with_clusters['Clusters'],cmap='rainbow')\n"
   ]
  },
  {
   "cell_type": "code",
   "execution_count": null,
   "id": "34ffafa4",
   "metadata": {},
   "outputs": [],
   "source": [
    "import numpy as np\n",
    "from sklearn.cluster import KMeans\n",
    "\n",
    "\n",
    "# Create a KMeans object with 3 clusters\n",
    "kmeans = KMeans(n_clusters=3)\n",
    "\n",
    "# Fit the KMeans model to the data\n",
    "kmeans.fit(df_encoded)\n",
    "identified_clusters = kmeans.fit_predict(df_encoded)\n",
    "identified_clusters"
   ]
  },
  {
   "cell_type": "code",
   "execution_count": null,
   "id": "1f342261",
   "metadata": {},
   "outputs": [],
   "source": [
    "data_with_clusters = df_encoded.copy()\n",
    "data_with_clusters['Clusters'] = identified_clusters \n",
    "plt.scatter(data_with_clusters['Longitude'],data_with_clusters['Latitude'],c=data_with_clusters['Clusters'],cmap='rainbow')\n"
   ]
  },
  {
   "cell_type": "code",
   "execution_count": null,
   "id": "ef400f3f",
   "metadata": {},
   "outputs": [],
   "source": []
  },
  {
   "cell_type": "code",
   "execution_count": null,
   "id": "9f94a824",
   "metadata": {},
   "outputs": [],
   "source": []
  },
  {
   "cell_type": "code",
   "execution_count": null,
   "id": "495e9064",
   "metadata": {},
   "outputs": [],
   "source": []
  },
  {
   "cell_type": "markdown",
   "id": "b8d27ee9",
   "metadata": {},
   "source": []
  },
  {
   "cell_type": "code",
   "execution_count": null,
   "id": "05e3c6c7",
   "metadata": {},
   "outputs": [],
   "source": [
    "def checking_outliers(dataframe):\n",
    "    \"\"\"\n",
    "    Function that get outliers from the dataframe\n",
    "\n",
    "    Args:\n",
    "        dataframe : pandas dataframe\n",
    "            Contains the data where the outliers are to be found\n",
    "    Returns:\n",
    "        None: prints number of outliers\n",
    "    \"\"\"\n",
    "    outliers = []\n",
    "    for c in dataframe.columns:\n",
    "        q25, q75 = np.percentile(dataframe[c], 25), np.percentile(dataframe[c], 75)\n",
    "        iqr = q75 - q25\n",
    "        print('Percentiles: 25th = %.3f, 75th = %.3f, IQR = %.3f' % (q25, q75, iqr))\n",
    "\n",
    "        # calculate the outlier cutoff\n",
    "        cut_off = iqr * 1.5\n",
    "        lower, upper = q25 - cut_off, q75 + cut_off\n",
    "\n",
    "        # identify outliers\n",
    "        indx = np.where((dataframe[c] < lower) | (dataframe[c] > upper))\n",
    "        print(c,'----------> Identified outliers: %d' % len(indx[0]))\n",
    "        "
   ]
  }
 ],
 "metadata": {
  "kernelspec": {
   "display_name": "Python 3 (ipykernel)",
   "language": "python",
   "name": "python3"
  },
  "language_info": {
   "codemirror_mode": {
    "name": "ipython",
    "version": 3
   },
   "file_extension": ".py",
   "mimetype": "text/x-python",
   "name": "python",
   "nbconvert_exporter": "python",
   "pygments_lexer": "ipython3",
   "version": "3.9.13"
  }
 },
 "nbformat": 4,
 "nbformat_minor": 5
}
